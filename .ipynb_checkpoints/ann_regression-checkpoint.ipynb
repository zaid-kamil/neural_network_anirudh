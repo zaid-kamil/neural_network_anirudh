{
 "cells": [
  {
   "cell_type": "code",
   "execution_count": 1,
   "id": "a5ab50c3-a68d-47ae-a418-a11b11761fb9",
   "metadata": {},
   "outputs": [],
   "source": [
    "import tensorflow as tf\n",
    "import pandas as pd\n",
    "import numpy as np\n",
    "import matplotlib.pyplot as plt"
   ]
  },
  {
   "cell_type": "code",
   "execution_count": 2,
   "id": "993834dc-cdcf-4ae0-8775-fbddb9ed36ca",
   "metadata": {},
   "outputs": [],
   "source": [
    "np.set_printoptions(suppress=True) # hide scientfic notation"
   ]
  },
  {
   "cell_type": "code",
   "execution_count": 3,
   "id": "876bae22-21d7-4c0e-9370-575e880c20e7",
   "metadata": {},
   "outputs": [
    {
     "data": {
      "text/html": [
       "<div>\n",
       "<style scoped>\n",
       "    .dataframe tbody tr th:only-of-type {\n",
       "        vertical-align: middle;\n",
       "    }\n",
       "\n",
       "    .dataframe tbody tr th {\n",
       "        vertical-align: top;\n",
       "    }\n",
       "\n",
       "    .dataframe thead th {\n",
       "        text-align: right;\n",
       "    }\n",
       "</style>\n",
       "<table border=\"1\" class=\"dataframe\">\n",
       "  <thead>\n",
       "    <tr style=\"text-align: right;\">\n",
       "      <th></th>\n",
       "      <th>Age</th>\n",
       "      <th>KM</th>\n",
       "      <th>Weight</th>\n",
       "      <th>HP</th>\n",
       "      <th>MetColor</th>\n",
       "      <th>CC</th>\n",
       "      <th>Doors</th>\n",
       "      <th>Price</th>\n",
       "    </tr>\n",
       "  </thead>\n",
       "  <tbody>\n",
       "    <tr>\n",
       "      <th>0</th>\n",
       "      <td>23.0</td>\n",
       "      <td>46986</td>\n",
       "      <td>1165.0</td>\n",
       "      <td>90</td>\n",
       "      <td>1</td>\n",
       "      <td>2000.0</td>\n",
       "      <td>3</td>\n",
       "      <td>13500</td>\n",
       "    </tr>\n",
       "    <tr>\n",
       "      <th>1</th>\n",
       "      <td>23.0</td>\n",
       "      <td>72937</td>\n",
       "      <td>1165.0</td>\n",
       "      <td>90</td>\n",
       "      <td>1</td>\n",
       "      <td>2000.0</td>\n",
       "      <td>3</td>\n",
       "      <td>13750</td>\n",
       "    </tr>\n",
       "    <tr>\n",
       "      <th>2</th>\n",
       "      <td>24.0</td>\n",
       "      <td>41711</td>\n",
       "      <td>1165.0</td>\n",
       "      <td>90</td>\n",
       "      <td>1</td>\n",
       "      <td>2000.0</td>\n",
       "      <td>3</td>\n",
       "      <td>13950</td>\n",
       "    </tr>\n",
       "    <tr>\n",
       "      <th>3</th>\n",
       "      <td>26.0</td>\n",
       "      <td>48000</td>\n",
       "      <td>1165.0</td>\n",
       "      <td>90</td>\n",
       "      <td>0</td>\n",
       "      <td>2000.0</td>\n",
       "      <td>3</td>\n",
       "      <td>14950</td>\n",
       "    </tr>\n",
       "    <tr>\n",
       "      <th>4</th>\n",
       "      <td>30.0</td>\n",
       "      <td>38500</td>\n",
       "      <td>1170.0</td>\n",
       "      <td>90</td>\n",
       "      <td>0</td>\n",
       "      <td>2000.0</td>\n",
       "      <td>3</td>\n",
       "      <td>13750</td>\n",
       "    </tr>\n",
       "  </tbody>\n",
       "</table>\n",
       "</div>"
      ],
      "text/plain": [
       "    Age     KM  Weight  HP  MetColor      CC  Doors  Price\n",
       "0  23.0  46986  1165.0  90         1  2000.0      3  13500\n",
       "1  23.0  72937  1165.0  90         1  2000.0      3  13750\n",
       "2  24.0  41711  1165.0  90         1  2000.0      3  13950\n",
       "3  26.0  48000  1165.0  90         0  2000.0      3  14950\n",
       "4  30.0  38500  1170.0  90         0  2000.0      3  13750"
      ]
     },
     "execution_count": 3,
     "metadata": {},
     "output_type": "execute_result"
    }
   ],
   "source": [
    "df = pd.read_pickle('datasets/CarPricesData.pkl') # preprocessed\n",
    "df.head()"
   ]
  },
  {
   "cell_type": "code",
   "execution_count": 4,
   "id": "615cec55-e82b-4438-90cd-96d2e1c3d35b",
   "metadata": {},
   "outputs": [],
   "source": [
    "X = df.drop(columns='Price')\n",
    "y = df[['Price']]"
   ]
  },
  {
   "cell_type": "code",
   "execution_count": 5,
   "id": "721cf314-c2e9-471f-b4ce-0c713ff86967",
   "metadata": {},
   "outputs": [],
   "source": [
    "from sklearn.preprocessing import StandardScaler\n",
    "\n",
    "featScaler = StandardScaler()\n",
    "targetScaler = StandardScaler()\n",
    "\n",
    "X = featScaler.fit_transform(X)\n",
    "y = targetScaler.fit_transform(y).flatten() # need 1 d"
   ]
  },
  {
   "cell_type": "code",
   "execution_count": 6,
   "id": "58fa38e4-78c9-4096-80b4-c994c82249e7",
   "metadata": {},
   "outputs": [
    {
     "name": "stdout",
     "output_type": "stream",
     "text": [
      "(1148, 7)\n",
      "(1148,)\n",
      "(287, 7)\n",
      "(287,)\n"
     ]
    }
   ],
   "source": [
    "from sklearn.model_selection import train_test_split\n",
    "X_train, X_test, y_train, y_test = train_test_split(X,y,test_size=.2)\n",
    "print(X_train.shape)\n",
    "print(y_train.shape)\n",
    "print(X_test.shape)\n",
    "print(y_test.shape)"
   ]
  },
  {
   "cell_type": "markdown",
   "id": "b4a2b841-13ec-4620-bd25-8dcd33a80a9f",
   "metadata": {},
   "source": [
    "neural network"
   ]
  },
  {
   "cell_type": "code",
   "execution_count": 7,
   "id": "21a2cb71-1968-40a0-89cb-99ee6c78c4a5",
   "metadata": {},
   "outputs": [],
   "source": [
    "from tensorflow.keras.models import Sequential # nn is going to be in sequence\n",
    "from tensorflow.keras.layers import Dense # a neural layer"
   ]
  },
  {
   "cell_type": "code",
   "execution_count": 9,
   "id": "f8f4b67a-82b2-4190-bf7f-8adeb8916b76",
   "metadata": {},
   "outputs": [
    {
     "name": "stdout",
     "output_type": "stream",
     "text": [
      "Model: \"sequential\"\n",
      "_________________________________________________________________\n",
      " Layer (type)                Output Shape              Param #   \n",
      "=================================================================\n",
      " dense (Dense)               (None, 5)                 40        \n",
      "                                                                 \n",
      " dense_1 (Dense)             (None, 5)                 30        \n",
      "                                                                 \n",
      " dense_2 (Dense)             (None, 1)                 6         \n",
      "                                                                 \n",
      "=================================================================\n",
      "Total params: 76 (304.00 Byte)\n",
      "Trainable params: 76 (304.00 Byte)\n",
      "Non-trainable params: 0 (0.00 Byte)\n",
      "_________________________________________________________________\n"
     ]
    }
   ],
   "source": [
    "model = Sequential()\n",
    "model.add(Dense(units=5, activation='relu', input_dim=X_train.shape[1])) # 1st hidden layer( input shape is required)\n",
    "model.add(Dense(units=5, activation='tanh')) # 2nd hidden layer\n",
    "model.add(Dense(1)) # output layer\n",
    "model.summary()"
   ]
  },
  {
   "cell_type": "code",
   "execution_count": 51,
   "id": "a24d799a-989b-491e-b661-0c6bc4cf3c81",
   "metadata": {
    "collapsed": true,
    "jupyter": {
     "outputs_hidden": true
    },
    "scrolled": true
   },
   "outputs": [
    {
     "data": {
      "text/plain": [
       "\u001b[1;31mSignature:\u001b[0m\n",
       "\u001b[0mmodel\u001b[0m\u001b[1;33m.\u001b[0m\u001b[0mcompile\u001b[0m\u001b[1;33m(\u001b[0m\u001b[1;33m\n",
       "\u001b[0m    \u001b[0moptimizer\u001b[0m\u001b[1;33m=\u001b[0m\u001b[1;34m'rmsprop'\u001b[0m\u001b[1;33m,\u001b[0m\u001b[1;33m\n",
       "\u001b[0m    \u001b[0mloss\u001b[0m\u001b[1;33m=\u001b[0m\u001b[1;32mNone\u001b[0m\u001b[1;33m,\u001b[0m\u001b[1;33m\n",
       "\u001b[0m    \u001b[0mmetrics\u001b[0m\u001b[1;33m=\u001b[0m\u001b[1;32mNone\u001b[0m\u001b[1;33m,\u001b[0m\u001b[1;33m\n",
       "\u001b[0m    \u001b[0mloss_weights\u001b[0m\u001b[1;33m=\u001b[0m\u001b[1;32mNone\u001b[0m\u001b[1;33m,\u001b[0m\u001b[1;33m\n",
       "\u001b[0m    \u001b[0mweighted_metrics\u001b[0m\u001b[1;33m=\u001b[0m\u001b[1;32mNone\u001b[0m\u001b[1;33m,\u001b[0m\u001b[1;33m\n",
       "\u001b[0m    \u001b[0mrun_eagerly\u001b[0m\u001b[1;33m=\u001b[0m\u001b[1;32mNone\u001b[0m\u001b[1;33m,\u001b[0m\u001b[1;33m\n",
       "\u001b[0m    \u001b[0msteps_per_execution\u001b[0m\u001b[1;33m=\u001b[0m\u001b[1;32mNone\u001b[0m\u001b[1;33m,\u001b[0m\u001b[1;33m\n",
       "\u001b[0m    \u001b[0mjit_compile\u001b[0m\u001b[1;33m=\u001b[0m\u001b[1;32mNone\u001b[0m\u001b[1;33m,\u001b[0m\u001b[1;33m\n",
       "\u001b[0m    \u001b[0mpss_evaluation_shards\u001b[0m\u001b[1;33m=\u001b[0m\u001b[1;36m0\u001b[0m\u001b[1;33m,\u001b[0m\u001b[1;33m\n",
       "\u001b[0m    \u001b[1;33m**\u001b[0m\u001b[0mkwargs\u001b[0m\u001b[1;33m,\u001b[0m\u001b[1;33m\n",
       "\u001b[0m\u001b[1;33m)\u001b[0m\u001b[1;33m\u001b[0m\u001b[1;33m\u001b[0m\u001b[0m\n",
       "\u001b[1;31mDocstring:\u001b[0m\n",
       "Configures the model for training.\n",
       "\n",
       "Example:\n",
       "\n",
       "```python\n",
       "model.compile(optimizer=tf.keras.optimizers.Adam(learning_rate=1e-3),\n",
       "              loss=tf.keras.losses.BinaryCrossentropy(),\n",
       "              metrics=[tf.keras.metrics.BinaryAccuracy(),\n",
       "                       tf.keras.metrics.FalseNegatives()])\n",
       "```\n",
       "\n",
       "Args:\n",
       "    optimizer: String (name of optimizer) or optimizer instance. See\n",
       "      `tf.keras.optimizers`.\n",
       "    loss: Loss function. May be a string (name of loss function), or\n",
       "      a `tf.keras.losses.Loss` instance. See `tf.keras.losses`. A loss\n",
       "      function is any callable with the signature `loss = fn(y_true,\n",
       "      y_pred)`, where `y_true` are the ground truth values, and\n",
       "      `y_pred` are the model's predictions.\n",
       "      `y_true` should have shape\n",
       "      `(batch_size, d0, .. dN)` (except in the case of\n",
       "      sparse loss functions such as\n",
       "      sparse categorical crossentropy which expects integer arrays of\n",
       "      shape `(batch_size, d0, .. dN-1)`).\n",
       "      `y_pred` should have shape `(batch_size, d0, .. dN)`.\n",
       "      The loss function should return a float tensor.\n",
       "      If a custom `Loss` instance is\n",
       "      used and reduction is set to `None`, return value has shape\n",
       "      `(batch_size, d0, .. dN-1)` i.e. per-sample or per-timestep loss\n",
       "      values; otherwise, it is a scalar. If the model has multiple\n",
       "      outputs, you can use a different loss on each output by passing a\n",
       "      dictionary or a list of losses. The loss value that will be\n",
       "      minimized by the model will then be the sum of all individual\n",
       "      losses, unless `loss_weights` is specified.\n",
       "    metrics: List of metrics to be evaluated by the model during\n",
       "      training and testing. Each of this can be a string (name of a\n",
       "      built-in function), function or a `tf.keras.metrics.Metric`\n",
       "      instance. See `tf.keras.metrics`. Typically you will use\n",
       "      `metrics=['accuracy']`.\n",
       "      A function is any callable with the signature `result = fn(y_true,\n",
       "      y_pred)`. To specify different metrics for different outputs of a\n",
       "      multi-output model, you could also pass a dictionary, such as\n",
       "      `metrics={'output_a':'accuracy', 'output_b':['accuracy', 'mse']}`.\n",
       "      You can also pass a list to specify a metric or a list of metrics\n",
       "      for each output, such as\n",
       "      `metrics=[['accuracy'], ['accuracy', 'mse']]`\n",
       "      or `metrics=['accuracy', ['accuracy', 'mse']]`. When you pass the\n",
       "      strings 'accuracy' or 'acc', we convert this to one of\n",
       "      `tf.keras.metrics.BinaryAccuracy`,\n",
       "      `tf.keras.metrics.CategoricalAccuracy`,\n",
       "      `tf.keras.metrics.SparseCategoricalAccuracy` based on the shapes\n",
       "      of the targets and of the model output. We do a similar\n",
       "      conversion for the strings 'crossentropy' and 'ce' as well.\n",
       "      The metrics passed here are evaluated without sample weighting; if\n",
       "      you would like sample weighting to apply, you can specify your\n",
       "      metrics via the `weighted_metrics` argument instead.\n",
       "    loss_weights: Optional list or dictionary specifying scalar\n",
       "      coefficients (Python floats) to weight the loss contributions of\n",
       "      different model outputs. The loss value that will be minimized by\n",
       "      the model will then be the *weighted sum* of all individual\n",
       "      losses, weighted by the `loss_weights` coefficients.  If a list,\n",
       "      it is expected to have a 1:1 mapping to the model's outputs. If a\n",
       "      dict, it is expected to map output names (strings) to scalar\n",
       "      coefficients.\n",
       "    weighted_metrics: List of metrics to be evaluated and weighted by\n",
       "      `sample_weight` or `class_weight` during training and testing.\n",
       "    run_eagerly: Bool. If `True`, this `Model`'s logic will not be\n",
       "      wrapped in a `tf.function`. Recommended to leave this as `None`\n",
       "      unless your `Model` cannot be run inside a `tf.function`.\n",
       "      `run_eagerly=True` is not supported when using\n",
       "      `tf.distribute.experimental.ParameterServerStrategy`. Defaults to\n",
       "       `False`.\n",
       "    steps_per_execution: Int or `'auto'`. The number of batches to\n",
       "      run during each `tf.function` call. If set to \"auto\", keras will\n",
       "      automatically tune `steps_per_execution` during runtime. Running\n",
       "      multiple batches inside a single `tf.function` call can greatly\n",
       "      improve performance on TPUs, when used with distributed strategies\n",
       "      such as `ParameterServerStrategy`, or with small models with a\n",
       "      large Python overhead. At most, one full epoch will be run each\n",
       "      execution. If a number larger than the size of the epoch is\n",
       "      passed, the execution will be truncated to the size of the epoch.\n",
       "      Note that if `steps_per_execution` is set to `N`,\n",
       "      `Callback.on_batch_begin` and `Callback.on_batch_end` methods will\n",
       "      only be called every `N` batches (i.e. before/after each\n",
       "      `tf.function` execution). Defaults to `1`.\n",
       "    jit_compile: If `True`, compile the model training step with XLA.\n",
       "      [XLA](https://www.tensorflow.org/xla) is an optimizing compiler\n",
       "      for machine learning.\n",
       "      `jit_compile` is not enabled for by default.\n",
       "      Note that `jit_compile=True`\n",
       "      may not necessarily work for all models.\n",
       "      For more information on supported operations please refer to the\n",
       "      [XLA documentation](https://www.tensorflow.org/xla).\n",
       "      Also refer to\n",
       "      [known XLA issues](https://www.tensorflow.org/xla/known_issues)\n",
       "      for more details.\n",
       "    pss_evaluation_shards: Integer or 'auto'. Used for\n",
       "      `tf.distribute.ParameterServerStrategy` training only. This arg\n",
       "      sets the number of shards to split the dataset into, to enable an\n",
       "      exact visitation guarantee for evaluation, meaning the model will\n",
       "      be applied to each dataset element exactly once, even if workers\n",
       "      fail. The dataset must be sharded to ensure separate workers do\n",
       "      not process the same data. The number of shards should be at least\n",
       "      the number of workers for good performance. A value of 'auto'\n",
       "      turns on exact evaluation and uses a heuristic for the number of\n",
       "      shards based on the number of workers. 0, meaning no\n",
       "      visitation guarantee is provided. NOTE: Custom implementations of\n",
       "      `Model.test_step` will be ignored when doing exact evaluation.\n",
       "      Defaults to `0`.\n",
       "    **kwargs: Arguments supported for backwards compatibility only.\n",
       "\u001b[1;31mFile:\u001b[0m      c:\\users\\zaid\\miniconda3\\lib\\site-packages\\keras\\src\\engine\\training.py\n",
       "\u001b[1;31mType:\u001b[0m      method"
      ]
     },
     "metadata": {},
     "output_type": "display_data"
    }
   ],
   "source": [
    "model.compile?"
   ]
  },
  {
   "cell_type": "code",
   "execution_count": 11,
   "id": "2f4c17fa-ca26-4e8b-a3ad-34416294dd04",
   "metadata": {
    "collapsed": true,
    "jupyter": {
     "outputs_hidden": true
    }
   },
   "outputs": [
    {
     "name": "stdout",
     "output_type": "stream",
     "text": [
      "Epoch 1/100\n",
      "115/115 [==============================] - 1s 3ms/step - loss: 1.0679 - r2_score: -0.0297 - val_loss: 0.7239 - val_r2_score: 0.1800\n",
      "Epoch 2/100\n",
      "115/115 [==============================] - 0s 1ms/step - loss: 0.6837 - r2_score: 0.3407 - val_loss: 0.4672 - val_r2_score: 0.4708\n",
      "Epoch 3/100\n",
      "115/115 [==============================] - 0s 1ms/step - loss: 0.4408 - r2_score: 0.5750 - val_loss: 0.3204 - val_r2_score: 0.6371\n",
      "Epoch 4/100\n",
      "115/115 [==============================] - 0s 2ms/step - loss: 0.3238 - r2_score: 0.6877 - val_loss: 0.2566 - val_r2_score: 0.7093\n",
      "Epoch 5/100\n",
      "115/115 [==============================] - 0s 2ms/step - loss: 0.2723 - r2_score: 0.7374 - val_loss: 0.2258 - val_r2_score: 0.7442\n",
      "Epoch 6/100\n",
      "115/115 [==============================] - 0s 2ms/step - loss: 0.2390 - r2_score: 0.7696 - val_loss: 0.2059 - val_r2_score: 0.7667\n",
      "Epoch 7/100\n",
      "115/115 [==============================] - 0s 2ms/step - loss: 0.2118 - r2_score: 0.7958 - val_loss: 0.1940 - val_r2_score: 0.7802\n",
      "Epoch 8/100\n",
      "115/115 [==============================] - 0s 2ms/step - loss: 0.1933 - r2_score: 0.8136 - val_loss: 0.1863 - val_r2_score: 0.7890\n",
      "Epoch 9/100\n",
      "115/115 [==============================] - 0s 2ms/step - loss: 0.1811 - r2_score: 0.8253 - val_loss: 0.1803 - val_r2_score: 0.7958\n",
      "Epoch 10/100\n",
      "115/115 [==============================] - 0s 2ms/step - loss: 0.1735 - r2_score: 0.8327 - val_loss: 0.1760 - val_r2_score: 0.8006\n",
      "Epoch 11/100\n",
      "115/115 [==============================] - 0s 2ms/step - loss: 0.1674 - r2_score: 0.8386 - val_loss: 0.1729 - val_r2_score: 0.8041\n",
      "Epoch 12/100\n",
      "115/115 [==============================] - 0s 1ms/step - loss: 0.1636 - r2_score: 0.8422 - val_loss: 0.1720 - val_r2_score: 0.8052\n",
      "Epoch 13/100\n",
      "115/115 [==============================] - 0s 2ms/step - loss: 0.1602 - r2_score: 0.8455 - val_loss: 0.1681 - val_r2_score: 0.8095\n",
      "Epoch 14/100\n",
      "115/115 [==============================] - 0s 2ms/step - loss: 0.1564 - r2_score: 0.8492 - val_loss: 0.1660 - val_r2_score: 0.8119\n",
      "Epoch 15/100\n",
      "115/115 [==============================] - 0s 2ms/step - loss: 0.1544 - r2_score: 0.8511 - val_loss: 0.1652 - val_r2_score: 0.8128\n",
      "Epoch 16/100\n",
      "115/115 [==============================] - 0s 2ms/step - loss: 0.1518 - r2_score: 0.8536 - val_loss: 0.1619 - val_r2_score: 0.8166\n",
      "Epoch 17/100\n",
      "115/115 [==============================] - 0s 2ms/step - loss: 0.1503 - r2_score: 0.8551 - val_loss: 0.1615 - val_r2_score: 0.8171\n",
      "Epoch 18/100\n",
      "115/115 [==============================] - 0s 1ms/step - loss: 0.1487 - r2_score: 0.8566 - val_loss: 0.1604 - val_r2_score: 0.8183\n",
      "Epoch 19/100\n",
      "115/115 [==============================] - 0s 2ms/step - loss: 0.1467 - r2_score: 0.8585 - val_loss: 0.1626 - val_r2_score: 0.8158\n",
      "Epoch 20/100\n",
      "115/115 [==============================] - 0s 2ms/step - loss: 0.1458 - r2_score: 0.8594 - val_loss: 0.1578 - val_r2_score: 0.8212\n",
      "Epoch 21/100\n",
      "115/115 [==============================] - 0s 2ms/step - loss: 0.1435 - r2_score: 0.8616 - val_loss: 0.1569 - val_r2_score: 0.8222\n",
      "Epoch 22/100\n",
      "115/115 [==============================] - 0s 2ms/step - loss: 0.1437 - r2_score: 0.8614 - val_loss: 0.1536 - val_r2_score: 0.8260\n",
      "Epoch 23/100\n",
      "115/115 [==============================] - 0s 2ms/step - loss: 0.1407 - r2_score: 0.8644 - val_loss: 0.1552 - val_r2_score: 0.8242\n",
      "Epoch 24/100\n",
      "115/115 [==============================] - 0s 2ms/step - loss: 0.1395 - r2_score: 0.8655 - val_loss: 0.1515 - val_r2_score: 0.8284\n",
      "Epoch 25/100\n",
      "115/115 [==============================] - 0s 2ms/step - loss: 0.1392 - r2_score: 0.8657 - val_loss: 0.1511 - val_r2_score: 0.8289\n",
      "Epoch 26/100\n",
      "115/115 [==============================] - 0s 2ms/step - loss: 0.1377 - r2_score: 0.8672 - val_loss: 0.1488 - val_r2_score: 0.8314\n",
      "Epoch 27/100\n",
      "115/115 [==============================] - 0s 2ms/step - loss: 0.1366 - r2_score: 0.8683 - val_loss: 0.1475 - val_r2_score: 0.8329\n",
      "Epoch 28/100\n",
      "115/115 [==============================] - 0s 2ms/step - loss: 0.1348 - r2_score: 0.8700 - val_loss: 0.1470 - val_r2_score: 0.8335\n",
      "Epoch 29/100\n",
      "115/115 [==============================] - 0s 2ms/step - loss: 0.1345 - r2_score: 0.8703 - val_loss: 0.1437 - val_r2_score: 0.8372\n",
      "Epoch 30/100\n",
      "115/115 [==============================] - 0s 2ms/step - loss: 0.1330 - r2_score: 0.8717 - val_loss: 0.1424 - val_r2_score: 0.8387\n",
      "Epoch 31/100\n",
      "115/115 [==============================] - 0s 2ms/step - loss: 0.1320 - r2_score: 0.8727 - val_loss: 0.1430 - val_r2_score: 0.8380\n",
      "Epoch 32/100\n",
      "115/115 [==============================] - 0s 2ms/step - loss: 0.1310 - r2_score: 0.8737 - val_loss: 0.1409 - val_r2_score: 0.8403\n",
      "Epoch 33/100\n",
      "115/115 [==============================] - 0s 2ms/step - loss: 0.1312 - r2_score: 0.8735 - val_loss: 0.1400 - val_r2_score: 0.8414\n",
      "Epoch 34/100\n",
      "115/115 [==============================] - 0s 2ms/step - loss: 0.1298 - r2_score: 0.8749 - val_loss: 0.1381 - val_r2_score: 0.8435\n",
      "Epoch 35/100\n",
      "115/115 [==============================] - 0s 2ms/step - loss: 0.1287 - r2_score: 0.8759 - val_loss: 0.1386 - val_r2_score: 0.8430\n",
      "Epoch 36/100\n",
      "115/115 [==============================] - 0s 2ms/step - loss: 0.1284 - r2_score: 0.8762 - val_loss: 0.1401 - val_r2_score: 0.8413\n",
      "Epoch 37/100\n",
      "115/115 [==============================] - 0s 2ms/step - loss: 0.1271 - r2_score: 0.8774 - val_loss: 0.1362 - val_r2_score: 0.8457\n",
      "Epoch 38/100\n",
      "115/115 [==============================] - 0s 2ms/step - loss: 0.1265 - r2_score: 0.8781 - val_loss: 0.1367 - val_r2_score: 0.8452\n",
      "Epoch 39/100\n",
      "115/115 [==============================] - 0s 2ms/step - loss: 0.1265 - r2_score: 0.8780 - val_loss: 0.1362 - val_r2_score: 0.8457\n",
      "Epoch 40/100\n",
      "115/115 [==============================] - 0s 2ms/step - loss: 0.1252 - r2_score: 0.8793 - val_loss: 0.1344 - val_r2_score: 0.8478\n",
      "Epoch 41/100\n",
      "115/115 [==============================] - 0s 2ms/step - loss: 0.1239 - r2_score: 0.8806 - val_loss: 0.1327 - val_r2_score: 0.8496\n",
      "Epoch 42/100\n",
      "115/115 [==============================] - 0s 2ms/step - loss: 0.1245 - r2_score: 0.8800 - val_loss: 0.1335 - val_r2_score: 0.8488\n",
      "Epoch 43/100\n",
      "115/115 [==============================] - 0s 2ms/step - loss: 0.1235 - r2_score: 0.8809 - val_loss: 0.1309 - val_r2_score: 0.8517\n",
      "Epoch 44/100\n",
      "115/115 [==============================] - 0s 2ms/step - loss: 0.1224 - r2_score: 0.8820 - val_loss: 0.1317 - val_r2_score: 0.8508\n",
      "Epoch 45/100\n",
      "115/115 [==============================] - 0s 2ms/step - loss: 0.1222 - r2_score: 0.8822 - val_loss: 0.1310 - val_r2_score: 0.8516\n",
      "Epoch 46/100\n",
      "115/115 [==============================] - 0s 2ms/step - loss: 0.1227 - r2_score: 0.8817 - val_loss: 0.1303 - val_r2_score: 0.8524\n",
      "Epoch 47/100\n",
      "115/115 [==============================] - 0s 2ms/step - loss: 0.1214 - r2_score: 0.8830 - val_loss: 0.1292 - val_r2_score: 0.8536\n",
      "Epoch 48/100\n",
      "115/115 [==============================] - 0s 2ms/step - loss: 0.1195 - r2_score: 0.8848 - val_loss: 0.1297 - val_r2_score: 0.8531\n",
      "Epoch 49/100\n",
      "115/115 [==============================] - 0s 2ms/step - loss: 0.1195 - r2_score: 0.8848 - val_loss: 0.1296 - val_r2_score: 0.8532\n",
      "Epoch 50/100\n",
      "115/115 [==============================] - 0s 2ms/step - loss: 0.1190 - r2_score: 0.8853 - val_loss: 0.1295 - val_r2_score: 0.8533\n",
      "Epoch 51/100\n",
      "115/115 [==============================] - 0s 2ms/step - loss: 0.1197 - r2_score: 0.8846 - val_loss: 0.1294 - val_r2_score: 0.8535\n",
      "Epoch 52/100\n",
      "115/115 [==============================] - 0s 2ms/step - loss: 0.1191 - r2_score: 0.8851 - val_loss: 0.1277 - val_r2_score: 0.8553\n",
      "Epoch 53/100\n",
      "115/115 [==============================] - 0s 2ms/step - loss: 0.1181 - r2_score: 0.8861 - val_loss: 0.1306 - val_r2_score: 0.8520\n",
      "Epoch 54/100\n",
      "115/115 [==============================] - 0s 2ms/step - loss: 0.1180 - r2_score: 0.8862 - val_loss: 0.1294 - val_r2_score: 0.8534\n",
      "Epoch 55/100\n",
      "115/115 [==============================] - 0s 2ms/step - loss: 0.1176 - r2_score: 0.8866 - val_loss: 0.1285 - val_r2_score: 0.8545\n",
      "Epoch 56/100\n",
      "115/115 [==============================] - 0s 2ms/step - loss: 0.1169 - r2_score: 0.8873 - val_loss: 0.1292 - val_r2_score: 0.8536\n",
      "Epoch 57/100\n",
      "115/115 [==============================] - 0s 2ms/step - loss: 0.1174 - r2_score: 0.8868 - val_loss: 0.1313 - val_r2_score: 0.8512\n"
     ]
    }
   ],
   "source": [
    "early_stopping = tf.keras.callbacks.EarlyStopping(monitor='val_loss', \n",
    "                                                  patience=5)\n",
    "model.compile(loss='mean_squared_error', optimizer='adam', metrics=tf.keras.metrics.R2Score())\n",
    "history = model.fit(X_train,  \n",
    "                    y_train, \n",
    "                    batch_size=8, \n",
    "                    epochs=100, \n",
    "                    validation_split=.2,\n",
    "                    verbose=1,\n",
    "                    callbacks=[early_stopping])"
   ]
  },
  {
   "cell_type": "code",
   "execution_count": 63,
   "id": "17bbfe37-ff79-4e52-a0cf-fe05f63d4b00",
   "metadata": {
    "jupyter": {
     "source_hidden": true
    }
   },
   "outputs": [],
   "source": [
    "# already tested\n",
    "def findBestParams(X_train, y_train, X_test, y_test):\n",
    "    batch_sizes = [8,16,32,64]\n",
    "    epoch_list = [20, 50, 100]\n",
    "    resultsdf =[]\n",
    "    sno = 0\n",
    "    for bs in batch_sizes:\n",
    "        for epochs in epoch_list:\n",
    "            sno+=1\n",
    "            model = Sequential()\n",
    "            model.add(Dense(units=5, activation='relu', input_dim=X_train.shape[1], kernel_initializer='normal')) # 1st hidden layer( input shape is required)\n",
    "            model.add(Dense(units=5, activation='tanh', kernel_initializer='normal')) # 2nd hidden layer\n",
    "            model.add(Dense(1)) # output layer\n",
    "            model.compile(loss='mean_squared_error', optimizer='adam')\n",
    "            model.fit(X_train, y_train, batch_size=bs, epochs=epochs, verbose=0)\n",
    "            accuracy = 100 - np.mean(100* (np.abs(y_test - model.predict(X_test))/y_test))\n",
    "            print(f'{sno} -> batch: {bs}, epochs: {epochs}, accuracy: {accuracy}')\n",
    "            resultsdf.append({\n",
    "                'sno': sno,\n",
    "                'bs': bs,\n",
    "                'epochs':epochs,\n",
    "                'acc': accuracy\n",
    "            })\n",
    "    \n",
    "    return pd.DataFrame(resultsdf)"
   ]
  },
  {
   "cell_type": "code",
   "execution_count": 64,
   "id": "e05500e8-73d4-4ac2-9f70-9f072adefa84",
   "metadata": {
    "collapsed": true,
    "jupyter": {
     "outputs_hidden": true
    },
    "scrolled": true
   },
   "outputs": [
    {
     "name": "stdout",
     "output_type": "stream",
     "text": [
      "9/9 [==============================] - 0s 1ms/step\n",
      "1 -> batch: 8, epochs: 20, accuracy: 66.72412005749095\n",
      "9/9 [==============================] - 0s 1ms/step\n",
      "2 -> batch: 8, epochs: 50, accuracy: 68.23634100899719\n",
      "9/9 [==============================] - 0s 1ms/step\n",
      "3 -> batch: 8, epochs: 100, accuracy: 73.49885053483656\n",
      "9/9 [==============================] - 0s 1ms/step\n",
      "4 -> batch: 16, epochs: 20, accuracy: 65.91162747765748\n",
      "9/9 [==============================] - 0s 1ms/step\n",
      "5 -> batch: 16, epochs: 50, accuracy: 65.00777014626647\n",
      "9/9 [==============================] - 0s 1ms/step\n",
      "6 -> batch: 16, epochs: 100, accuracy: 66.43275375633189\n",
      "9/9 [==============================] - 0s 1ms/step\n",
      "7 -> batch: 32, epochs: 20, accuracy: 64.63183048598059\n",
      "9/9 [==============================] - 0s 2ms/step\n",
      "8 -> batch: 32, epochs: 50, accuracy: 65.55419242800885\n",
      "9/9 [==============================] - 0s 2ms/step\n",
      "9 -> batch: 32, epochs: 100, accuracy: 65.45303054532123\n",
      "9/9 [==============================] - 0s 1ms/step\n",
      "10 -> batch: 64, epochs: 20, accuracy: 64.44450938595884\n",
      "9/9 [==============================] - 0s 1ms/step\n",
      "11 -> batch: 64, epochs: 50, accuracy: 65.58540323370705\n",
      "9/9 [==============================] - 0s 1ms/step\n",
      "12 -> batch: 64, epochs: 100, accuracy: 68.1275501177196\n"
     ]
    },
    {
     "data": {
      "text/html": [
       "<div>\n",
       "<style scoped>\n",
       "    .dataframe tbody tr th:only-of-type {\n",
       "        vertical-align: middle;\n",
       "    }\n",
       "\n",
       "    .dataframe tbody tr th {\n",
       "        vertical-align: top;\n",
       "    }\n",
       "\n",
       "    .dataframe thead th {\n",
       "        text-align: right;\n",
       "    }\n",
       "</style>\n",
       "<table border=\"1\" class=\"dataframe\">\n",
       "  <thead>\n",
       "    <tr style=\"text-align: right;\">\n",
       "      <th></th>\n",
       "      <th>sno</th>\n",
       "      <th>bs</th>\n",
       "      <th>epochs</th>\n",
       "      <th>acc</th>\n",
       "    </tr>\n",
       "  </thead>\n",
       "  <tbody>\n",
       "    <tr>\n",
       "      <th>0</th>\n",
       "      <td>1</td>\n",
       "      <td>8</td>\n",
       "      <td>20</td>\n",
       "      <td>66.724120</td>\n",
       "    </tr>\n",
       "    <tr>\n",
       "      <th>1</th>\n",
       "      <td>2</td>\n",
       "      <td>8</td>\n",
       "      <td>50</td>\n",
       "      <td>68.236341</td>\n",
       "    </tr>\n",
       "    <tr>\n",
       "      <th>2</th>\n",
       "      <td>3</td>\n",
       "      <td>8</td>\n",
       "      <td>100</td>\n",
       "      <td>73.498851</td>\n",
       "    </tr>\n",
       "    <tr>\n",
       "      <th>3</th>\n",
       "      <td>4</td>\n",
       "      <td>16</td>\n",
       "      <td>20</td>\n",
       "      <td>65.911627</td>\n",
       "    </tr>\n",
       "    <tr>\n",
       "      <th>4</th>\n",
       "      <td>5</td>\n",
       "      <td>16</td>\n",
       "      <td>50</td>\n",
       "      <td>65.007770</td>\n",
       "    </tr>\n",
       "    <tr>\n",
       "      <th>5</th>\n",
       "      <td>6</td>\n",
       "      <td>16</td>\n",
       "      <td>100</td>\n",
       "      <td>66.432754</td>\n",
       "    </tr>\n",
       "    <tr>\n",
       "      <th>6</th>\n",
       "      <td>7</td>\n",
       "      <td>32</td>\n",
       "      <td>20</td>\n",
       "      <td>64.631830</td>\n",
       "    </tr>\n",
       "    <tr>\n",
       "      <th>7</th>\n",
       "      <td>8</td>\n",
       "      <td>32</td>\n",
       "      <td>50</td>\n",
       "      <td>65.554192</td>\n",
       "    </tr>\n",
       "    <tr>\n",
       "      <th>8</th>\n",
       "      <td>9</td>\n",
       "      <td>32</td>\n",
       "      <td>100</td>\n",
       "      <td>65.453031</td>\n",
       "    </tr>\n",
       "    <tr>\n",
       "      <th>9</th>\n",
       "      <td>10</td>\n",
       "      <td>64</td>\n",
       "      <td>20</td>\n",
       "      <td>64.444509</td>\n",
       "    </tr>\n",
       "    <tr>\n",
       "      <th>10</th>\n",
       "      <td>11</td>\n",
       "      <td>64</td>\n",
       "      <td>50</td>\n",
       "      <td>65.585403</td>\n",
       "    </tr>\n",
       "    <tr>\n",
       "      <th>11</th>\n",
       "      <td>12</td>\n",
       "      <td>64</td>\n",
       "      <td>100</td>\n",
       "      <td>68.127550</td>\n",
       "    </tr>\n",
       "  </tbody>\n",
       "</table>\n",
       "</div>"
      ],
      "text/plain": [
       "    sno  bs  epochs        acc\n",
       "0     1   8      20  66.724120\n",
       "1     2   8      50  68.236341\n",
       "2     3   8     100  73.498851\n",
       "3     4  16      20  65.911627\n",
       "4     5  16      50  65.007770\n",
       "5     6  16     100  66.432754\n",
       "6     7  32      20  64.631830\n",
       "7     8  32      50  65.554192\n",
       "8     9  32     100  65.453031\n",
       "9    10  64      20  64.444509\n",
       "10   11  64      50  65.585403\n",
       "11   12  64     100  68.127550"
      ]
     },
     "execution_count": 64,
     "metadata": {},
     "output_type": "execute_result"
    }
   ],
   "source": [
    "# already tested\n",
    "findBestParams(X_train, y_train, X_test, y_test)"
   ]
  },
  {
   "cell_type": "code",
   "execution_count": 14,
   "id": "4f96ce7f-b67a-4cd5-9ca3-149a252e2341",
   "metadata": {},
   "outputs": [
    {
     "data": {
      "text/plain": [
       "dict_keys(['loss', 'r2_score', 'val_loss', 'val_r2_score'])"
      ]
     },
     "execution_count": 14,
     "metadata": {},
     "output_type": "execute_result"
    }
   ],
   "source": [
    "history.history.keys()"
   ]
  },
  {
   "cell_type": "code",
   "execution_count": 16,
   "id": "041af60e-083a-48ad-a116-afdb57825939",
   "metadata": {},
   "outputs": [],
   "source": [
    "metrics_df = pd.DataFrame(history.history)"
   ]
  },
  {
   "cell_type": "code",
   "execution_count": 18,
   "id": "9591b9cc-6bde-49cc-bbf0-4fde35a5286c",
   "metadata": {},
   "outputs": [
    {
     "data": {
      "text/plain": [
       "<Axes: >"
      ]
     },
     "execution_count": 18,
     "metadata": {},
     "output_type": "execute_result"
    },
    {
     "data": {
      "image/png": "[encoded data removed]",
      "text/plain": [
       "<Figure size 432x288 with 1 Axes>"
      ]
     },
     "metadata": {
      "needs_background": "light"
     },
     "output_type": "display_data"
    }
   ],
   "source": [
    "metrics_df[['loss', 'val_loss']].plot()"
   ]
  },
  {
   "cell_type": "code",
   "execution_count": 19,
   "id": "c4dc155e-15e9-42c2-afe5-6d4824c67eed",
   "metadata": {},
   "outputs": [
    {
     "data": {
      "text/plain": [
       "Index(['loss', 'r2_score', 'val_loss', 'val_r2_score'], dtype='object')"
      ]
     },
     "execution_count": 19,
     "metadata": {},
     "output_type": "execute_result"
    }
   ],
   "source": [
    "metrics_df.columns"
   ]
  },
  {
   "cell_type": "code",
   "execution_count": 20,
   "id": "d7776478-8af1-4113-b9e9-280c73b86050",
   "metadata": {},
   "outputs": [
    {
     "data": {
      "text/plain": [
       "<Axes: >"
      ]
     },
     "execution_count": 20,
     "metadata": {},
     "output_type": "execute_result"
    },
    {
     "data": {
      "image/png": "[encoded data removed]",
      "text/plain": [
       "<Figure size 432x288 with 1 Axes>"
      ]
     },
     "metadata": {
      "needs_background": "light"
     },
     "output_type": "display_data"
    }
   ],
   "source": [
    "metrics_df[['r2_score', 'val_r2_score']].plot()"
   ]
  },
  {
   "cell_type": "code",
   "execution_count": 25,
   "id": "3c748ad0-0755-4a0a-a166-1d4a646e7553",
   "metadata": {},
   "outputs": [],
   "source": [
    "import os\n",
    "model.save(os.path.join('models','car_price_prediction.keras'))"
   ]
  },
  {
   "cell_type": "code",
   "execution_count": 38,
   "id": "ae843880-2881-4351-b64b-6e1866efeb43",
   "metadata": {},
   "outputs": [
    {
     "name": "stdout",
     "output_type": "stream",
     "text": [
      "1/1 [==============================] - 0s 17ms/step\n"
     ]
    },
    {
     "data": {
      "text/plain": [
       "(2, 1)"
      ]
     },
     "execution_count": 38,
     "metadata": {},
     "output_type": "execute_result"
    }
   ],
   "source": [
    "out = model.predict(np.array([X[0], X[50]]))\n",
    "out.shape"
   ]
  },
  {
   "cell_type": "code",
   "execution_count": 39,
   "id": "a035c6d1-d963-4d02-b553-2d69ca881256",
   "metadata": {},
   "outputs": [
    {
     "data": {
      "text/plain": [
       "array([[15377.786],\n",
       "       [17818.41 ]], dtype=float32)"
      ]
     },
     "execution_count": 39,
     "metadata": {},
     "output_type": "execute_result"
    }
   ],
   "source": [
    "targetScaler.inverse_transform(out)"
   ]
  },
  {
   "cell_type": "code",
   "execution_count": 45,
   "id": "bc23f84b-1fc1-4816-913d-0a3ec3940631",
   "metadata": {},
   "outputs": [
    {
     "data": {
      "text/plain": [
       "['Age', 'KM', 'Weight', 'HP', 'MetColor', 'CC', 'Doors', 'Price']"
      ]
     },
     "execution_count": 45,
     "metadata": {},
     "output_type": "execute_result"
    }
   ],
   "source": [
    "df.columns.tolist()"
   ]
  },
  {
   "cell_type": "code",
   "execution_count": 67,
   "id": "5dbc961f-ca97-443a-88a6-e64838ae30bb",
   "metadata": {},
   "outputs": [],
   "source": [
    "# model, featscaler, targetscaler\n",
    "def predict_price(age, km, wt, hp, mc, cc, doors):\n",
    "    inp = pd.DataFrame({\n",
    "        'Age':[age],\n",
    "        'KM':[km],\n",
    "        'Weight':[wt],\n",
    "        'HP':[hp],\n",
    "        'MetColor':[mc],\n",
    "        'CC':[cc],\n",
    "        'Doors':[doors]\n",
    "    })\n",
    "    scaled_inp = featScaler.transform(inp)\n",
    "    out = model.predict(scaled_inp)\n",
    "    return targetScaler.inverse_transform(out)[0,0] # first row, and first element\n",
    "    "
   ]
  },
  {
   "cell_type": "code",
   "execution_count": 69,
   "id": "4d7f93e1-146d-4caa-ba81-be93c4cdaa61",
   "metadata": {},
   "outputs": [
    {
     "name": "stdout",
     "output_type": "stream",
     "text": [
      "1/1 [==============================] - 0s 17ms/step\n"
     ]
    },
    {
     "data": {
      "text/plain": [
       "9484.994"
      ]
     },
     "execution_count": 69,
     "metadata": {},
     "output_type": "execute_result"
    }
   ],
   "source": [
    "# testing the base function\n",
    "predict_price(12,44544,90, 200, 2, 56, 1)"
   ]
  },
  {
   "cell_type": "code",
   "execution_count": 72,
   "id": "51970ca8-c728-4541-a876-71aa4970458b",
   "metadata": {},
   "outputs": [
    {
     "data": {
      "text/html": [
       "<div>\n",
       "<style scoped>\n",
       "    .dataframe tbody tr th:only-of-type {\n",
       "        vertical-align: middle;\n",
       "    }\n",
       "\n",
       "    .dataframe tbody tr th {\n",
       "        vertical-align: top;\n",
       "    }\n",
       "\n",
       "    .dataframe thead th {\n",
       "        text-align: right;\n",
       "    }\n",
       "</style>\n",
       "<table border=\"1\" class=\"dataframe\">\n",
       "  <thead>\n",
       "    <tr style=\"text-align: right;\">\n",
       "      <th></th>\n",
       "      <th>Age</th>\n",
       "      <th>KM</th>\n",
       "      <th>Weight</th>\n",
       "      <th>HP</th>\n",
       "      <th>MetColor</th>\n",
       "      <th>CC</th>\n",
       "      <th>Doors</th>\n",
       "      <th>Price</th>\n",
       "    </tr>\n",
       "  </thead>\n",
       "  <tbody>\n",
       "    <tr>\n",
       "      <th>count</th>\n",
       "      <td>1435.000000</td>\n",
       "      <td>1435.000000</td>\n",
       "      <td>1435.000000</td>\n",
       "      <td>1435.000000</td>\n",
       "      <td>1435.000000</td>\n",
       "      <td>1435.000000</td>\n",
       "      <td>1435.000000</td>\n",
       "      <td>1435.000000</td>\n",
       "    </tr>\n",
       "    <tr>\n",
       "      <th>mean</th>\n",
       "      <td>56.027178</td>\n",
       "      <td>68571.782578</td>\n",
       "      <td>1071.659930</td>\n",
       "      <td>101.491986</td>\n",
       "      <td>0.674564</td>\n",
       "      <td>1566.735192</td>\n",
       "      <td>4.032753</td>\n",
       "      <td>10720.915679</td>\n",
       "    </tr>\n",
       "    <tr>\n",
       "      <th>std</th>\n",
       "      <td>18.532943</td>\n",
       "      <td>37491.094553</td>\n",
       "      <td>47.688509</td>\n",
       "      <td>14.981408</td>\n",
       "      <td>0.468701</td>\n",
       "      <td>186.767122</td>\n",
       "      <td>0.952667</td>\n",
       "      <td>3608.732978</td>\n",
       "    </tr>\n",
       "    <tr>\n",
       "      <th>min</th>\n",
       "      <td>1.000000</td>\n",
       "      <td>1.000000</td>\n",
       "      <td>1000.000000</td>\n",
       "      <td>69.000000</td>\n",
       "      <td>0.000000</td>\n",
       "      <td>1300.000000</td>\n",
       "      <td>2.000000</td>\n",
       "      <td>4350.000000</td>\n",
       "    </tr>\n",
       "    <tr>\n",
       "      <th>25%</th>\n",
       "      <td>44.000000</td>\n",
       "      <td>43000.000000</td>\n",
       "      <td>1040.000000</td>\n",
       "      <td>90.000000</td>\n",
       "      <td>0.000000</td>\n",
       "      <td>1400.000000</td>\n",
       "      <td>3.000000</td>\n",
       "      <td>8450.000000</td>\n",
       "    </tr>\n",
       "    <tr>\n",
       "      <th>50%</th>\n",
       "      <td>61.000000</td>\n",
       "      <td>63451.000000</td>\n",
       "      <td>1070.000000</td>\n",
       "      <td>110.000000</td>\n",
       "      <td>1.000000</td>\n",
       "      <td>1600.000000</td>\n",
       "      <td>4.000000</td>\n",
       "      <td>9900.000000</td>\n",
       "    </tr>\n",
       "    <tr>\n",
       "      <th>75%</th>\n",
       "      <td>70.000000</td>\n",
       "      <td>87041.500000</td>\n",
       "      <td>1085.000000</td>\n",
       "      <td>110.000000</td>\n",
       "      <td>1.000000</td>\n",
       "      <td>1600.000000</td>\n",
       "      <td>5.000000</td>\n",
       "      <td>11950.000000</td>\n",
       "    </tr>\n",
       "    <tr>\n",
       "      <th>max</th>\n",
       "      <td>80.000000</td>\n",
       "      <td>243000.000000</td>\n",
       "      <td>1320.000000</td>\n",
       "      <td>192.000000</td>\n",
       "      <td>1.000000</td>\n",
       "      <td>2000.000000</td>\n",
       "      <td>5.000000</td>\n",
       "      <td>32500.000000</td>\n",
       "    </tr>\n",
       "  </tbody>\n",
       "</table>\n",
       "</div>"
      ],
      "text/plain": [
       "               Age             KM       Weight           HP     MetColor  \\\n",
       "count  1435.000000    1435.000000  1435.000000  1435.000000  1435.000000   \n",
       "mean     56.027178   68571.782578  1071.659930   101.491986     0.674564   \n",
       "std      18.532943   37491.094553    47.688509    14.981408     0.468701   \n",
       "min       1.000000       1.000000  1000.000000    69.000000     0.000000   \n",
       "25%      44.000000   43000.000000  1040.000000    90.000000     0.000000   \n",
       "50%      61.000000   63451.000000  1070.000000   110.000000     1.000000   \n",
       "75%      70.000000   87041.500000  1085.000000   110.000000     1.000000   \n",
       "max      80.000000  243000.000000  1320.000000   192.000000     1.000000   \n",
       "\n",
       "                CC        Doors         Price  \n",
       "count  1435.000000  1435.000000   1435.000000  \n",
       "mean   1566.735192     4.032753  10720.915679  \n",
       "std     186.767122     0.952667   3608.732978  \n",
       "min    1300.000000     2.000000   4350.000000  \n",
       "25%    1400.000000     3.000000   8450.000000  \n",
       "50%    1600.000000     4.000000   9900.000000  \n",
       "75%    1600.000000     5.000000  11950.000000  \n",
       "max    2000.000000     5.000000  32500.000000  "
      ]
     },
     "execution_count": 72,
     "metadata": {},
     "output_type": "execute_result"
    }
   ],
   "source": [
    "df.describe()"
   ]
  },
  {
   "cell_type": "code",
   "execution_count": 70,
   "id": "e37ad93c-cc4b-4977-b548-dc2ad2f1443f",
   "metadata": {},
   "outputs": [],
   "source": [
    "import gradio as gr"
   ]
  },
  {
   "cell_type": "code",
   "execution_count": 75,
   "id": "e765694a-6c91-43b8-9c61-c80e3c7459c2",
   "metadata": {},
   "outputs": [
    {
     "name": "stdout",
     "output_type": "stream",
     "text": [
      "Running on local URL:  http://127.0.0.1:7863\n",
      "Running on public URL: https://dbced7eb34e937f7ba.gradio.live\n",
      "\n",
      "This share link expires in 72 hours. For free permanent hosting and GPU upgrades, run `gradio deploy` from Terminal to deploy to Spaces (https://huggingface.co/spaces)\n"
     ]
    },
    {
     "data": {
      "text/html": [
       "<div><iframe src=\"https://dbced7eb34e937f7ba.gradio.live\" width=\"100%\" height=\"500\" allow=\"autoplay; camera; microphone; clipboard-read; clipboard-write;\" frameborder=\"0\" allowfullscreen></iframe></div>"
      ],
      "text/plain": [
       "<IPython.core.display.HTML object>"
      ]
     },
     "metadata": {},
     "output_type": "display_data"
    },
    {
     "data": {
      "text/plain": []
     },
     "execution_count": 75,
     "metadata": {},
     "output_type": "execute_result"
    },
    {
     "name": "stdout",
     "output_type": "stream",
     "text": [
      "1/1 [==============================] - 0s 18ms/step\n"
     ]
    }
   ],
   "source": [
    "ui = gr.Interface(\n",
    "    fn=predict_price,\n",
    "    inputs=[\n",
    "        gr.Slider(1, 100), # age\n",
    "        gr.Slider(0, 1000000), # km\n",
    "        gr.Slider(0, 2000), # weight\n",
    "        gr.Slider(0, 200), # hp\n",
    "        gr.Slider(0, 1, step=1), # met color\n",
    "        gr.Slider(0, 2000), # cc\n",
    "        gr.Slider(0, 5, step=1), # doors\n",
    "    ],\n",
    "    outputs=[\"number\"],\n",
    ")\n",
    "ui.launch(share=True)"
   ]
  },
  {
   "cell_type": "code",
   "execution_count": null,
   "id": "d785c6f5-eb28-4a0a-aea3-c89fe26abc99",
   "metadata": {},
   "outputs": [],
   "source": []
  }
 ],
 "metadata": {
  "kernelspec": {
   "display_name": "Python 3",
   "language": "python",
   "name": "python3"
  },
  "language_info": {
   "codemirror_mode": {
    "name": "ipython",
    "version": 3
   },
   "file_extension": ".py",
   "mimetype": "text/x-python",
   "name": "python",
   "nbconvert_exporter": "python",
   "pygments_lexer": "ipython3",
   "version": "3.11.5"
  }
 },
 "nbformat": 4,
 "nbformat_minor": 5
}
