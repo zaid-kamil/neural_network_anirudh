{
 "cells": [
  {
   "cell_type": "code",
   "execution_count": 1,
   "id": "494859a1-04db-4fb2-9e5b-d6164d80bcad",
   "metadata": {},
   "outputs": [],
   "source": [
    "import pandas as pd\n",
    "import numpy as np\n",
    "import seaborn as sns\n",
    "import matplotlib.pyplot as plt\n",
    "import tensorflow as tf"
   ]
  },
  {
   "cell_type": "code",
   "execution_count": 2,
   "id": "32ebeee9-9e85-4b8f-a011-da065257acf9",
   "metadata": {},
   "outputs": [],
   "source": [
    "url = 'https://raw.githubusercontent.com/digipodium/Datasets/main/classfication/diabetes.csv'"
   ]
  },
  {
   "cell_type": "code",
   "execution_count": 3,
   "id": "52f79ee1-fb81-4a9b-9634-046f7e8a9c05",
   "metadata": {},
   "outputs": [
    {
     "data": {
      "text/html": [
       "<div>\n",
       "<style scoped>\n",
       "    .dataframe tbody tr th:only-of-type {\n",
       "        vertical-align: middle;\n",
       "    }\n",
       "\n",
       "    .dataframe tbody tr th {\n",
       "        vertical-align: top;\n",
       "    }\n",
       "\n",
       "    .dataframe thead th {\n",
       "        text-align: right;\n",
       "    }\n",
       "</style>\n",
       "<table border=\"1\" class=\"dataframe\">\n",
       "  <thead>\n",
       "    <tr style=\"text-align: right;\">\n",
       "      <th></th>\n",
       "      <th>Pregnancies</th>\n",
       "      <th>Glucose</th>\n",
       "      <th>BloodPressure</th>\n",
       "      <th>SkinThickness</th>\n",
       "      <th>Insulin</th>\n",
       "      <th>BMI</th>\n",
       "      <th>DiabetesPedigreeFunction</th>\n",
       "      <th>Age</th>\n",
       "      <th>Outcome</th>\n",
       "    </tr>\n",
       "  </thead>\n",
       "  <tbody>\n",
       "    <tr>\n",
       "      <th>0</th>\n",
       "      <td>6</td>\n",
       "      <td>148</td>\n",
       "      <td>72</td>\n",
       "      <td>35</td>\n",
       "      <td>0</td>\n",
       "      <td>33.6</td>\n",
       "      <td>0.627</td>\n",
       "      <td>50</td>\n",
       "      <td>1</td>\n",
       "    </tr>\n",
       "    <tr>\n",
       "      <th>1</th>\n",
       "      <td>1</td>\n",
       "      <td>85</td>\n",
       "      <td>66</td>\n",
       "      <td>29</td>\n",
       "      <td>0</td>\n",
       "      <td>26.6</td>\n",
       "      <td>0.351</td>\n",
       "      <td>31</td>\n",
       "      <td>0</td>\n",
       "    </tr>\n",
       "    <tr>\n",
       "      <th>2</th>\n",
       "      <td>8</td>\n",
       "      <td>183</td>\n",
       "      <td>64</td>\n",
       "      <td>0</td>\n",
       "      <td>0</td>\n",
       "      <td>23.3</td>\n",
       "      <td>0.672</td>\n",
       "      <td>32</td>\n",
       "      <td>1</td>\n",
       "    </tr>\n",
       "    <tr>\n",
       "      <th>3</th>\n",
       "      <td>1</td>\n",
       "      <td>89</td>\n",
       "      <td>66</td>\n",
       "      <td>23</td>\n",
       "      <td>94</td>\n",
       "      <td>28.1</td>\n",
       "      <td>0.167</td>\n",
       "      <td>21</td>\n",
       "      <td>0</td>\n",
       "    </tr>\n",
       "    <tr>\n",
       "      <th>4</th>\n",
       "      <td>0</td>\n",
       "      <td>137</td>\n",
       "      <td>40</td>\n",
       "      <td>35</td>\n",
       "      <td>168</td>\n",
       "      <td>43.1</td>\n",
       "      <td>2.288</td>\n",
       "      <td>33</td>\n",
       "      <td>1</td>\n",
       "    </tr>\n",
       "    <tr>\n",
       "      <th>...</th>\n",
       "      <td>...</td>\n",
       "      <td>...</td>\n",
       "      <td>...</td>\n",
       "      <td>...</td>\n",
       "      <td>...</td>\n",
       "      <td>...</td>\n",
       "      <td>...</td>\n",
       "      <td>...</td>\n",
       "      <td>...</td>\n",
       "    </tr>\n",
       "    <tr>\n",
       "      <th>763</th>\n",
       "      <td>10</td>\n",
       "      <td>101</td>\n",
       "      <td>76</td>\n",
       "      <td>48</td>\n",
       "      <td>180</td>\n",
       "      <td>32.9</td>\n",
       "      <td>0.171</td>\n",
       "      <td>63</td>\n",
       "      <td>0</td>\n",
       "    </tr>\n",
       "    <tr>\n",
       "      <th>764</th>\n",
       "      <td>2</td>\n",
       "      <td>122</td>\n",
       "      <td>70</td>\n",
       "      <td>27</td>\n",
       "      <td>0</td>\n",
       "      <td>36.8</td>\n",
       "      <td>0.340</td>\n",
       "      <td>27</td>\n",
       "      <td>0</td>\n",
       "    </tr>\n",
       "    <tr>\n",
       "      <th>765</th>\n",
       "      <td>5</td>\n",
       "      <td>121</td>\n",
       "      <td>72</td>\n",
       "      <td>23</td>\n",
       "      <td>112</td>\n",
       "      <td>26.2</td>\n",
       "      <td>0.245</td>\n",
       "      <td>30</td>\n",
       "      <td>0</td>\n",
       "    </tr>\n",
       "    <tr>\n",
       "      <th>766</th>\n",
       "      <td>1</td>\n",
       "      <td>126</td>\n",
       "      <td>60</td>\n",
       "      <td>0</td>\n",
       "      <td>0</td>\n",
       "      <td>30.1</td>\n",
       "      <td>0.349</td>\n",
       "      <td>47</td>\n",
       "      <td>1</td>\n",
       "    </tr>\n",
       "    <tr>\n",
       "      <th>767</th>\n",
       "      <td>1</td>\n",
       "      <td>93</td>\n",
       "      <td>70</td>\n",
       "      <td>31</td>\n",
       "      <td>0</td>\n",
       "      <td>30.4</td>\n",
       "      <td>0.315</td>\n",
       "      <td>23</td>\n",
       "      <td>0</td>\n",
       "    </tr>\n",
       "  </tbody>\n",
       "</table>\n",
       "<p>768 rows × 9 columns</p>\n",
       "</div>"
      ],
      "text/plain": [
       "     Pregnancies  Glucose  BloodPressure  SkinThickness  Insulin   BMI  \\\n",
       "0              6      148             72             35        0  33.6   \n",
       "1              1       85             66             29        0  26.6   \n",
       "2              8      183             64              0        0  23.3   \n",
       "3              1       89             66             23       94  28.1   \n",
       "4              0      137             40             35      168  43.1   \n",
       "..           ...      ...            ...            ...      ...   ...   \n",
       "763           10      101             76             48      180  32.9   \n",
       "764            2      122             70             27        0  36.8   \n",
       "765            5      121             72             23      112  26.2   \n",
       "766            1      126             60              0        0  30.1   \n",
       "767            1       93             70             31        0  30.4   \n",
       "\n",
       "     DiabetesPedigreeFunction  Age  Outcome  \n",
       "0                       0.627   50        1  \n",
       "1                       0.351   31        0  \n",
       "2                       0.672   32        1  \n",
       "3                       0.167   21        0  \n",
       "4                       2.288   33        1  \n",
       "..                        ...  ...      ...  \n",
       "763                     0.171   63        0  \n",
       "764                     0.340   27        0  \n",
       "765                     0.245   30        0  \n",
       "766                     0.349   47        1  \n",
       "767                     0.315   23        0  \n",
       "\n",
       "[768 rows x 9 columns]"
      ]
     },
     "execution_count": 3,
     "metadata": {},
     "output_type": "execute_result"
    }
   ],
   "source": [
    "df = pd.read_csv(url)\n",
    "df"
   ]
  },
  {
   "cell_type": "code",
   "execution_count": 4,
   "id": "7013d05c-e87d-4a18-9949-0d10b019a01b",
   "metadata": {},
   "outputs": [],
   "source": [
    "X = df.drop(columns =['Outcome'])\n",
    "y = df.Outcome"
   ]
  },
  {
   "cell_type": "code",
   "execution_count": 5,
   "id": "1ee0393a-f7c3-441e-906e-7abd3d56bb82",
   "metadata": {},
   "outputs": [
    {
     "data": {
      "text/plain": [
       "((768, 8), (768,))"
      ]
     },
     "execution_count": 5,
     "metadata": {},
     "output_type": "execute_result"
    }
   ],
   "source": [
    "X.shape, y.shape"
   ]
  },
  {
   "cell_type": "code",
   "execution_count": 6,
   "id": "d5c921fb-b4c9-4bbd-9795-a5b79d0c83a9",
   "metadata": {},
   "outputs": [],
   "source": [
    "from sklearn.model_selection import train_test_split\n",
    "from sklearn.metrics import confusion_matrix, classification_report"
   ]
  },
  {
   "cell_type": "code",
   "execution_count": 7,
   "id": "473d7999-15f3-487f-a4d0-10e17034b3bf",
   "metadata": {},
   "outputs": [],
   "source": [
    "X_train, X_test, y_train, y_test = train_test_split(X,y,test_size=.2)"
   ]
  },
  {
   "cell_type": "code",
   "execution_count": 8,
   "id": "344437c7-3570-4113-b97c-1905de72b825",
   "metadata": {},
   "outputs": [],
   "source": [
    "from tensorflow.keras.models import Sequential # nn is going to be in sequence\n",
    "from tensorflow.keras.layers import Dense # a neural layer"
   ]
  },
  {
   "cell_type": "code",
   "execution_count": 9,
   "id": "70ced54b-af90-4597-ad4e-e4fae5144fc3",
   "metadata": {},
   "outputs": [
    {
     "name": "stdout",
     "output_type": "stream",
     "text": [
      "Model: \"sequential\"\n",
      "_________________________________________________________________\n",
      " Layer (type)                Output Shape              Param #   \n",
      "=================================================================\n",
      " dense (Dense)               (None, 5)                 45        \n",
      "                                                                 \n",
      " dense_1 (Dense)             (None, 5)                 30        \n",
      "                                                                 \n",
      " dense_2 (Dense)             (None, 5)                 30        \n",
      "                                                                 \n",
      " dense_3 (Dense)             (None, 1)                 6         \n",
      "                                                                 \n",
      "=================================================================\n",
      "Total params: 111 (444.00 Byte)\n",
      "Trainable params: 111 (444.00 Byte)\n",
      "Non-trainable params: 0 (0.00 Byte)\n",
      "_________________________________________________________________\n"
     ]
    }
   ],
   "source": [
    "model = Sequential()\n",
    "model.add(Dense(activation='relu', units=5, input_dim = X_train.shape[1]))\n",
    "model.add(Dense(units=5, activation='relu')) # 2nd hidden layer\n",
    "model.add(Dense(units=5, activation='relu')) # 3nd hidden layer\n",
    "model.add(Dense(units=1, activation='sigmoid')) # output layer\n",
    "model.summary()"
   ]
  },
  {
   "cell_type": "code",
   "execution_count": 10,
   "id": "33f494d8-921d-4606-b80d-a029cb5e3e80",
   "metadata": {},
   "outputs": [
    {
     "name": "stdout",
     "output_type": "stream",
     "text": [
      "Epoch 1/100\n",
      "62/62 [==============================] - 1s 5ms/step - loss: 0.3070 - accuracy: 0.6273 - val_loss: 0.3062 - val_accuracy: 0.6423\n",
      "Epoch 2/100\n",
      "62/62 [==============================] - 0s 2ms/step - loss: 0.2769 - accuracy: 0.6415 - val_loss: 0.2704 - val_accuracy: 0.6423\n",
      "Epoch 3/100\n",
      "62/62 [==============================] - 0s 2ms/step - loss: 0.2545 - accuracy: 0.6415 - val_loss: 0.2479 - val_accuracy: 0.6423\n",
      "Epoch 4/100\n",
      "62/62 [==============================] - 0s 2ms/step - loss: 0.2474 - accuracy: 0.6436 - val_loss: 0.2446 - val_accuracy: 0.6423\n",
      "Epoch 5/100\n",
      "62/62 [==============================] - 0s 2ms/step - loss: 0.2440 - accuracy: 0.6456 - val_loss: 0.2426 - val_accuracy: 0.6423\n",
      "Epoch 6/100\n",
      "62/62 [==============================] - 0s 2ms/step - loss: 0.2426 - accuracy: 0.6436 - val_loss: 0.2406 - val_accuracy: 0.6423\n",
      "Epoch 7/100\n",
      "62/62 [==============================] - 0s 2ms/step - loss: 0.2405 - accuracy: 0.6415 - val_loss: 0.2389 - val_accuracy: 0.6423\n",
      "Epoch 8/100\n",
      "62/62 [==============================] - 0s 2ms/step - loss: 0.2389 - accuracy: 0.6456 - val_loss: 0.2380 - val_accuracy: 0.6423\n",
      "Epoch 9/100\n",
      "62/62 [==============================] - 0s 2ms/step - loss: 0.2372 - accuracy: 0.6395 - val_loss: 0.2360 - val_accuracy: 0.6423\n",
      "Epoch 10/100\n",
      "62/62 [==============================] - 0s 2ms/step - loss: 0.2355 - accuracy: 0.6477 - val_loss: 0.2348 - val_accuracy: 0.6585\n",
      "Epoch 11/100\n",
      "62/62 [==============================] - 0s 2ms/step - loss: 0.2344 - accuracy: 0.6497 - val_loss: 0.2336 - val_accuracy: 0.6423\n",
      "Epoch 12/100\n",
      "62/62 [==============================] - 0s 2ms/step - loss: 0.2333 - accuracy: 0.6456 - val_loss: 0.2323 - val_accuracy: 0.6504\n",
      "Epoch 13/100\n",
      "62/62 [==============================] - 0s 2ms/step - loss: 0.2321 - accuracy: 0.6477 - val_loss: 0.2318 - val_accuracy: 0.6423\n",
      "Epoch 14/100\n",
      "62/62 [==============================] - 0s 2ms/step - loss: 0.2311 - accuracy: 0.6517 - val_loss: 0.2305 - val_accuracy: 0.6504\n",
      "Epoch 15/100\n",
      "62/62 [==============================] - 0s 2ms/step - loss: 0.2299 - accuracy: 0.6578 - val_loss: 0.2313 - val_accuracy: 0.6504\n",
      "Epoch 16/100\n",
      "62/62 [==============================] - 0s 2ms/step - loss: 0.2285 - accuracy: 0.6517 - val_loss: 0.2322 - val_accuracy: 0.6341\n",
      "Epoch 17/100\n",
      "62/62 [==============================] - 0s 2ms/step - loss: 0.2275 - accuracy: 0.6578 - val_loss: 0.2283 - val_accuracy: 0.6423\n",
      "Epoch 18/100\n",
      "62/62 [==============================] - 0s 2ms/step - loss: 0.2270 - accuracy: 0.6578 - val_loss: 0.2276 - val_accuracy: 0.6341\n",
      "Epoch 19/100\n",
      "62/62 [==============================] - 0s 2ms/step - loss: 0.2266 - accuracy: 0.6619 - val_loss: 0.2268 - val_accuracy: 0.6504\n",
      "Epoch 20/100\n",
      "62/62 [==============================] - 0s 2ms/step - loss: 0.2253 - accuracy: 0.6578 - val_loss: 0.2266 - val_accuracy: 0.6341\n",
      "Epoch 21/100\n",
      "62/62 [==============================] - 0s 2ms/step - loss: 0.2261 - accuracy: 0.6558 - val_loss: 0.2258 - val_accuracy: 0.6423\n",
      "Epoch 22/100\n",
      "62/62 [==============================] - 0s 2ms/step - loss: 0.2251 - accuracy: 0.6558 - val_loss: 0.2260 - val_accuracy: 0.6423\n",
      "Epoch 23/100\n",
      "62/62 [==============================] - 0s 2ms/step - loss: 0.2236 - accuracy: 0.6578 - val_loss: 0.2246 - val_accuracy: 0.6423\n",
      "Epoch 24/100\n",
      "62/62 [==============================] - 0s 2ms/step - loss: 0.2230 - accuracy: 0.6701 - val_loss: 0.2243 - val_accuracy: 0.6341\n",
      "Epoch 25/100\n",
      "62/62 [==============================] - 0s 2ms/step - loss: 0.2222 - accuracy: 0.6599 - val_loss: 0.2237 - val_accuracy: 0.6423\n",
      "Epoch 26/100\n",
      "62/62 [==============================] - 0s 2ms/step - loss: 0.2215 - accuracy: 0.6619 - val_loss: 0.2233 - val_accuracy: 0.6423\n",
      "Epoch 27/100\n",
      "62/62 [==============================] - 0s 2ms/step - loss: 0.2206 - accuracy: 0.6701 - val_loss: 0.2243 - val_accuracy: 0.6423\n",
      "Epoch 28/100\n",
      "62/62 [==============================] - 0s 2ms/step - loss: 0.2205 - accuracy: 0.6660 - val_loss: 0.2215 - val_accuracy: 0.6504\n",
      "Epoch 29/100\n",
      "62/62 [==============================] - 0s 2ms/step - loss: 0.2199 - accuracy: 0.6741 - val_loss: 0.2225 - val_accuracy: 0.6585\n",
      "Epoch 30/100\n",
      "62/62 [==============================] - 0s 2ms/step - loss: 0.2184 - accuracy: 0.6680 - val_loss: 0.2209 - val_accuracy: 0.6423\n",
      "Epoch 31/100\n",
      "62/62 [==============================] - 0s 2ms/step - loss: 0.2173 - accuracy: 0.6680 - val_loss: 0.2212 - val_accuracy: 0.6504\n",
      "Epoch 32/100\n",
      "62/62 [==============================] - 0s 2ms/step - loss: 0.2165 - accuracy: 0.6619 - val_loss: 0.2191 - val_accuracy: 0.6585\n",
      "Epoch 33/100\n",
      "62/62 [==============================] - 0s 2ms/step - loss: 0.2143 - accuracy: 0.6701 - val_loss: 0.2202 - val_accuracy: 0.6585\n",
      "Epoch 34/100\n",
      "62/62 [==============================] - 0s 2ms/step - loss: 0.2134 - accuracy: 0.6701 - val_loss: 0.2181 - val_accuracy: 0.6585\n",
      "Epoch 35/100\n",
      "62/62 [==============================] - 0s 2ms/step - loss: 0.2139 - accuracy: 0.6680 - val_loss: 0.2170 - val_accuracy: 0.6504\n",
      "Epoch 36/100\n",
      "62/62 [==============================] - 0s 2ms/step - loss: 0.2112 - accuracy: 0.6762 - val_loss: 0.2167 - val_accuracy: 0.6748\n",
      "Epoch 37/100\n",
      "62/62 [==============================] - 0s 2ms/step - loss: 0.2102 - accuracy: 0.6762 - val_loss: 0.2160 - val_accuracy: 0.6829\n",
      "Epoch 38/100\n",
      "62/62 [==============================] - 0s 2ms/step - loss: 0.2086 - accuracy: 0.6925 - val_loss: 0.2131 - val_accuracy: 0.6829\n",
      "Epoch 39/100\n",
      "62/62 [==============================] - 0s 2ms/step - loss: 0.2074 - accuracy: 0.7047 - val_loss: 0.2134 - val_accuracy: 0.6748\n",
      "Epoch 40/100\n",
      "62/62 [==============================] - 0s 2ms/step - loss: 0.2055 - accuracy: 0.7026 - val_loss: 0.2118 - val_accuracy: 0.6992\n",
      "Epoch 41/100\n",
      "62/62 [==============================] - 0s 2ms/step - loss: 0.2056 - accuracy: 0.6904 - val_loss: 0.2134 - val_accuracy: 0.6911\n",
      "Epoch 42/100\n",
      "62/62 [==============================] - 0s 2ms/step - loss: 0.2044 - accuracy: 0.6945 - val_loss: 0.2106 - val_accuracy: 0.6911\n",
      "Epoch 43/100\n",
      "62/62 [==============================] - 0s 2ms/step - loss: 0.2020 - accuracy: 0.7169 - val_loss: 0.2099 - val_accuracy: 0.6992\n",
      "Epoch 44/100\n",
      "62/62 [==============================] - 0s 2ms/step - loss: 0.2020 - accuracy: 0.7006 - val_loss: 0.2091 - val_accuracy: 0.7154\n",
      "Epoch 45/100\n",
      "62/62 [==============================] - 0s 2ms/step - loss: 0.2012 - accuracy: 0.7006 - val_loss: 0.2082 - val_accuracy: 0.7236\n",
      "Epoch 46/100\n",
      "62/62 [==============================] - 0s 2ms/step - loss: 0.1991 - accuracy: 0.7108 - val_loss: 0.2120 - val_accuracy: 0.6585\n",
      "Epoch 47/100\n",
      "62/62 [==============================] - 0s 2ms/step - loss: 0.2009 - accuracy: 0.6945 - val_loss: 0.2079 - val_accuracy: 0.6911\n",
      "Epoch 48/100\n",
      "62/62 [==============================] - 0s 2ms/step - loss: 0.1997 - accuracy: 0.7026 - val_loss: 0.2065 - val_accuracy: 0.7236\n",
      "Epoch 49/100\n",
      "62/62 [==============================] - 0s 2ms/step - loss: 0.1984 - accuracy: 0.6965 - val_loss: 0.2061 - val_accuracy: 0.7154\n",
      "Epoch 50/100\n",
      "62/62 [==============================] - 0s 2ms/step - loss: 0.1975 - accuracy: 0.7026 - val_loss: 0.2068 - val_accuracy: 0.6911\n",
      "Epoch 51/100\n",
      "62/62 [==============================] - 0s 2ms/step - loss: 0.1972 - accuracy: 0.6925 - val_loss: 0.2058 - val_accuracy: 0.6992\n",
      "Epoch 52/100\n",
      "62/62 [==============================] - 0s 2ms/step - loss: 0.1966 - accuracy: 0.7149 - val_loss: 0.2061 - val_accuracy: 0.6992\n",
      "Epoch 53/100\n",
      "62/62 [==============================] - 0s 2ms/step - loss: 0.1960 - accuracy: 0.7067 - val_loss: 0.2051 - val_accuracy: 0.6992\n",
      "Epoch 54/100\n",
      "62/62 [==============================] - 0s 2ms/step - loss: 0.1947 - accuracy: 0.7047 - val_loss: 0.2047 - val_accuracy: 0.6911\n",
      "Epoch 55/100\n",
      "62/62 [==============================] - 0s 2ms/step - loss: 0.1936 - accuracy: 0.7108 - val_loss: 0.2052 - val_accuracy: 0.6748\n",
      "Epoch 56/100\n",
      "62/62 [==============================] - 0s 2ms/step - loss: 0.1936 - accuracy: 0.7067 - val_loss: 0.2053 - val_accuracy: 0.7073\n",
      "Epoch 57/100\n",
      "62/62 [==============================] - 0s 2ms/step - loss: 0.1923 - accuracy: 0.7149 - val_loss: 0.2052 - val_accuracy: 0.6748\n",
      "Epoch 58/100\n",
      "62/62 [==============================] - 0s 2ms/step - loss: 0.1927 - accuracy: 0.6986 - val_loss: 0.2050 - val_accuracy: 0.7154\n",
      "Epoch 59/100\n",
      "62/62 [==============================] - 0s 2ms/step - loss: 0.1924 - accuracy: 0.7067 - val_loss: 0.2075 - val_accuracy: 0.6829\n"
     ]
    },
    {
     "data": {
      "text/plain": [
       "<Axes: >"
      ]
     },
     "execution_count": 10,
     "metadata": {},
     "output_type": "execute_result"
    },
    {
     "data": {
      "image/png": "[encoded data removed]",
      "text/plain": [
       "<Figure size 432x288 with 1 Axes>"
      ]
     },
     "metadata": {
      "needs_background": "light"
     },
     "output_type": "display_data"
    }
   ],
   "source": [
    "early_stopping = tf.keras.callbacks.EarlyStopping(monitor='val_loss', patience=5)\n",
    "model.compile(loss='mean_squared_error', optimizer='adam', metrics='accuracy')\n",
    "history = model.fit(X_train,  \n",
    "                    y_train, \n",
    "                    batch_size=8, \n",
    "                    epochs=100, \n",
    "                    validation_split=.2,\n",
    "                    verbose=1,\n",
    "                    callbacks=[early_stopping])\n",
    "metrics_df = pd.DataFrame(history.history)\n",
    "metrics_df[['loss', 'val_loss']].plot()"
   ]
  },
  {
   "cell_type": "code",
   "execution_count": 11,
   "id": "5d57148b-0d77-4e02-819e-97f75372eefd",
   "metadata": {},
   "outputs": [
    {
     "data": {
      "text/plain": [
       "Index(['loss', 'accuracy', 'val_loss', 'val_accuracy'], dtype='object')"
      ]
     },
     "execution_count": 11,
     "metadata": {},
     "output_type": "execute_result"
    }
   ],
   "source": [
    "metrics_df.columns"
   ]
  },
  {
   "cell_type": "code",
   "execution_count": 12,
   "id": "9dbeccb3-7964-407e-b327-84d97dd9617e",
   "metadata": {},
   "outputs": [
    {
     "data": {
      "text/plain": [
       "(0.0, 1.0)"
      ]
     },
     "execution_count": 12,
     "metadata": {},
     "output_type": "execute_result"
    },
    {
     "data": {
      "image/png": "[encoded data removed]",
      "text/plain": [
       "<Figure size 432x288 with 1 Axes>"
      ]
     },
     "metadata": {
      "needs_background": "light"
     },
     "output_type": "display_data"
    }
   ],
   "source": [
    "metrics_df[['accuracy', 'val_accuracy']].plot()\n",
    "plt.ylim(0,1)"
   ]
  },
  {
   "cell_type": "code",
   "execution_count": 13,
   "id": "4893681f-6112-4699-aec0-74e927c35b7d",
   "metadata": {},
   "outputs": [
    {
     "name": "stdout",
     "output_type": "stream",
     "text": [
      "5/5 [==============================] - 0s 1ms/step\n"
     ]
    }
   ],
   "source": [
    "y_pred = model.predict(X_test)"
   ]
  },
  {
   "cell_type": "code",
   "execution_count": 14,
   "id": "f62462d1-80a7-4140-b68a-9b702968f389",
   "metadata": {},
   "outputs": [],
   "source": [
    "y_pred = y_pred > .5"
   ]
  },
  {
   "cell_type": "code",
   "execution_count": 15,
   "id": "db38073f-3af3-4c54-b506-41ffcc9acce0",
   "metadata": {},
   "outputs": [
    {
     "data": {
      "text/plain": [
       "array([[98,  7],\n",
       "       [37, 12]], dtype=int64)"
      ]
     },
     "execution_count": 15,
     "metadata": {},
     "output_type": "execute_result"
    }
   ],
   "source": [
    "confusion_matrix(y_test, y_pred)"
   ]
  },
  {
   "cell_type": "code",
   "execution_count": 16,
   "id": "181bc5c0-ae85-4434-8e9e-0119562b7a49",
   "metadata": {},
   "outputs": [
    {
     "data": {
      "text/plain": [
       "Outcome\n",
       "0    500\n",
       "1    268\n",
       "Name: count, dtype: int64"
      ]
     },
     "execution_count": 16,
     "metadata": {},
     "output_type": "execute_result"
    }
   ],
   "source": [
    "df.Outcome.value_counts()"
   ]
  },
  {
   "cell_type": "code",
   "execution_count": 17,
   "id": "4a468379-ac1f-498b-bf4d-55c63f3815bf",
   "metadata": {},
   "outputs": [
    {
     "name": "stdout",
     "output_type": "stream",
     "text": [
      "              precision    recall  f1-score   support\n",
      "\n",
      "           0       0.73      0.93      0.82       105\n",
      "           1       0.63      0.24      0.35        49\n",
      "\n",
      "    accuracy                           0.71       154\n",
      "   macro avg       0.68      0.59      0.58       154\n",
      "weighted avg       0.70      0.71      0.67       154\n",
      "\n"
     ]
    }
   ],
   "source": [
    "print(classification_report(y_test, y_pred))"
   ]
  },
  {
   "cell_type": "code",
   "execution_count": 18,
   "id": "668be6f1-2549-44d2-8b2f-2166dd9ce049",
   "metadata": {},
   "outputs": [],
   "source": [
    "from imblearn.over_sampling import SMOTE"
   ]
  },
  {
   "cell_type": "code",
   "execution_count": 19,
   "id": "f8152049-4faf-453f-b052-57697cecb7c1",
   "metadata": {},
   "outputs": [],
   "source": [
    "Xo, yo = SMOTE().fit_resample(X,y)"
   ]
  },
  {
   "cell_type": "code",
   "execution_count": 20,
   "id": "d3801f03-e83c-4737-a017-426e4abcb33a",
   "metadata": {},
   "outputs": [],
   "source": [
    "from imblearn.under_sampling import RandomUnderSampler"
   ]
  },
  {
   "cell_type": "code",
   "execution_count": 21,
   "id": "1ef06521-e3b1-4d82-9436-b819991d8ee1",
   "metadata": {},
   "outputs": [],
   "source": [
    "Xu, yu = RandomUnderSampler().fit_resample(X,y)"
   ]
  },
  {
   "cell_type": "markdown",
   "id": "d5871634-72be-4b98-b009-9b8e924eabdf",
   "metadata": {},
   "source": [
    "- task\n",
    "1. Model retrain with oversampled and undersampled data\n",
    "2. Create a gradio UI for user prediction\n",
    "  "
   ]
  },
  {
   "cell_type": "code",
   "execution_count": 22,
   "id": "4571f8cb-cc7f-409f-bcb1-e41385e82d47",
   "metadata": {},
   "outputs": [
    {
     "data": {
      "text/plain": [
       "'2.14.0'"
      ]
     },
     "execution_count": 22,
     "metadata": {},
     "output_type": "execute_result"
    }
   ],
   "source": [
    "tf.__version__"
   ]
  },
  {
   "cell_type": "code",
   "execution_count": null,
   "id": "321311ce-6668-494c-b210-ed9678bec9ce",
   "metadata": {},
   "outputs": [],
   "source": []
  }
 ],
 "metadata": {
  "kernelspec": {
   "display_name": "Python 3",
   "language": "python",
   "name": "python3"
  },
  "language_info": {
   "codemirror_mode": {
    "name": "ipython",
    "version": 3
   },
   "file_extension": ".py",
   "mimetype": "text/x-python",
   "name": "python",
   "nbconvert_exporter": "python",
   "pygments_lexer": "ipython3",
   "version": "3.11.5"
  }
 },
 "nbformat": 4,
 "nbformat_minor": 5
}
